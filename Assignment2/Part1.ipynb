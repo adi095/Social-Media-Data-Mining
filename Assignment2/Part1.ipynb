{
 "cells": [
  {
   "cell_type": "markdown",
   "id": "3c33c428-dcc9-43b5-8be8-d57cdb6f7423",
   "metadata": {},
   "source": [
    "# Assignemnt2\n",
    "## Part 1"
   ]
  },
  {
   "cell_type": "code",
   "execution_count": 1,
   "id": "f57150d4-1fba-4cce-8153-e5ddf42596c7",
   "metadata": {},
   "outputs": [],
   "source": [
    "# Import necessary libraries\n",
    "import networkx as nx"
   ]
  },
  {
   "cell_type": "code",
   "execution_count": 3,
   "id": "77c654ce-6a13-4fae-8912-efccc86079c8",
   "metadata": {},
   "outputs": [],
   "source": [
    "friends_network_path = \"friends.gml\"  \n",
    "G1 = nx.read_gml(friends_network_path)\n"
   ]
  },
  {
   "cell_type": "code",
   "execution_count": 5,
   "id": "6ef49b9b-7f5d-48fc-b17c-a3320c5c94ea",
   "metadata": {},
   "outputs": [],
   "source": [
    "node_100 = 100\n",
    "if node_100 not in G1.nodes:\n",
    "    node_100 = str(node_100)"
   ]
  },
  {
   "cell_type": "code",
   "execution_count": 7,
   "id": "6fbf8301-2422-450e-8c6a-09364642d678",
   "metadata": {},
   "outputs": [],
   "source": [
    "degree_centrality_100 = nx.degree_centrality(G1).get(node_100, 0)\n",
    "closeness_centrality_100 = nx.closeness_centrality(G1).get(node_100, 0)\n",
    "betweenness_centrality_100 = nx.betweenness_centrality(G1, normalized=True).get(node_100, 0)"
   ]
  },
  {
   "cell_type": "code",
   "execution_count": 9,
   "id": "5d921bfe-a82a-4149-b704-94f1c76d2000",
   "metadata": {},
   "outputs": [],
   "source": [
    "best_user_voucher = max(nx.degree_centrality(G1), key=nx.degree_centrality(G1).get)"
   ]
  },
  {
   "cell_type": "code",
   "execution_count": 11,
   "id": "67d9d38a-70df-43c2-b5ea-aa958e892bb5",
   "metadata": {},
   "outputs": [],
   "source": [
    "best_user_closeness = max(nx.closeness_centrality(G1), key=nx.closeness_centrality(G1).get)"
   ]
  },
  {
   "cell_type": "code",
   "execution_count": 21,
   "id": "4b013eef-dbb9-4e56-9c75-317bcd2d44ad",
   "metadata": {},
   "outputs": [
    {
     "name": "stdout",
     "output_type": "stream",
     "text": [
      "Q1-Degree Centrality: 0.0026501766784452294\n",
      "Q1-Closeness Centrality: 0.2654784240150094\n",
      "Q1-Normalized Betweeness Centrality : 7.142902633244772e-05\n",
      "Q2-Best User for Voucher: 105\n",
      "Q3-Best User for Unlimited Voucher Reach: 23\n"
     ]
    }
   ],
   "source": [
    "print(f\"Q1-Degree Centrality: {degree_centrality_100}\")\n",
    "print(f\"Q1-Closeness Centrality: {closeness_centrality_100}\")\n",
    "print(f\"Q1-Normalized Betweeness Centrality : {betweenness_centrality_100}\")\n",
    "print(f\"Q2-Best User for Voucher: {best_user_voucher}\")\n",
    "print(f\"Q3-Best User for Unlimited Voucher Reach: {best_user_closeness}\")"
   ]
  }
 ],
 "metadata": {
  "kernelspec": {
   "display_name": "Python 3 (ipykernel)",
   "language": "python",
   "name": "python3"
  },
  "language_info": {
   "codemirror_mode": {
    "name": "ipython",
    "version": 3
   },
   "file_extension": ".py",
   "mimetype": "text/x-python",
   "name": "python",
   "nbconvert_exporter": "python",
   "pygments_lexer": "ipython3",
   "version": "3.12.3"
  }
 },
 "nbformat": 4,
 "nbformat_minor": 5
}
