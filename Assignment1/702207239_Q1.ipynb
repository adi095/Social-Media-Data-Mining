{
 "cells": [
  {
   "cell_type": "markdown",
   "id": "673a6840-b092-4987-b1ca-bccea7b58b93",
   "metadata": {},
   "source": [
    "# CIS 600 SMDM - Assignment 1\n",
    "## Question 1"
   ]
  },
  {
   "cell_type": "code",
   "execution_count": 3,
   "id": "60985859-c6ed-4736-8b89-084c8e69c578",
   "metadata": {},
   "outputs": [
    {
     "name": "stdin",
     "output_type": "stream",
     "text": [
      "student's name:  Adishree Sane\n",
      "grade for Assignment 1 (0-100) : 99\n",
      "grade for Assignment 2 (0-100) : 80\n",
      "grade for Assignment 3 (0-100) : 60\n",
      "grade for the Midterm Exam (0-100) : 50\n",
      "grade for the Project (0-100) : 99\n"
     ]
    },
    {
     "name": "stdout",
     "output_type": "stream",
     "text": [
      "\n",
      "--- Final Grade ---\n",
      "Student Name: Adishree Sane\n",
      "Final Grade: 83.40\n"
     ]
    }
   ],
   "source": [
    "# Question 1\n",
    "# calculate the student's grade for CIS 600\n",
    "\n",
    "def calculate():\n",
    "    \n",
    "    student_name = input(\"student's name: \")\n",
    "    \n",
    "    assignment1 = float(input(\"grade for Assignment 1 (0-100) :\"))\n",
    "    assignment2 = float(input(\"grade for Assignment 2 (0-100) :\"))\n",
    "    assignment3 = float(input(\"grade for Assignment 3 (0-100) :\"))\n",
    "    midterm = float(input(\"grade for the Midterm Exam (0-100) :\"))\n",
    "    project = float(input(\"grade for the Project (0-100) :\"))\n",
    "\n",
    "    assignment_w = 0.10\n",
    "    midterm_w = 0.20\n",
    "    project_w = 0.50\n",
    "\n",
    "    Cumulative_grade = (\n",
    "        (assignment1 * assignment_w) +\n",
    "        (assignment2 * assignment_w) +\n",
    "        (assignment3 * assignment_w) +\n",
    "        (midterm * midterm_w) +\n",
    "        (project * project_w)\n",
    "    )\n",
    "\n",
    "    print(\"\\n--- Final Grade ---\")\n",
    "    print(f\"Student Name: {student_name}\")\n",
    "    print(f\"Final Grade: {Cumulative_grade:.2f}\")\n",
    "\n",
    "# MAIN\n",
    "if __name__ == \"__main__\":\n",
    "    calculate()\n"
   ]
  }
 ],
 "metadata": {
  "kernelspec": {
   "display_name": "Python 3 (ipykernel)",
   "language": "python",
   "name": "python3"
  },
  "language_info": {
   "codemirror_mode": {
    "name": "ipython",
    "version": 3
   },
   "file_extension": ".py",
   "mimetype": "text/x-python",
   "name": "python",
   "nbconvert_exporter": "python",
   "pygments_lexer": "ipython3",
   "version": "3.12.3"
  }
 },
 "nbformat": 4,
 "nbformat_minor": 5
}
