{
 "cells": [
  {
   "cell_type": "markdown",
   "id": "2782e4b4-81a9-40bf-aa70-acbb6a788464",
   "metadata": {},
   "source": [
    "Homework - Adishree Sane, 702207239"
   ]
  },
  {
   "cell_type": "code",
   "execution_count": 2,
   "id": "5ffe4792-c58b-486a-8d0b-d2cba8057c7c",
   "metadata": {},
   "outputs": [],
   "source": [
    "import pandas as pd\n",
    "import numpy as np\n",
    "import re\n",
    "import nltk\n",
    "from nltk.corpus import stopwords\n",
    "from nltk.tokenize import word_tokenize\n",
    "from nltk.stem import WordNetLemmatizer\n",
    "from sklearn.feature_extraction.text import TfidfVectorizer\n",
    "import matplotlib.pyplot as plt\n",
    "from collections import Counter"
   ]
  },
  {
   "cell_type": "code",
   "execution_count": 3,
   "id": "9074268a-c6a3-47ac-80ad-f2ed0acc6c8c",
   "metadata": {},
   "outputs": [
    {
     "name": "stderr",
     "output_type": "stream",
     "text": [
      "[nltk_data] Downloading package punkt to\n",
      "[nltk_data]     C:\\Users\\adiun\\AppData\\Roaming\\nltk_data...\n",
      "[nltk_data]   Package punkt is already up-to-date!\n",
      "[nltk_data] Downloading package stopwords to\n",
      "[nltk_data]     C:\\Users\\adiun\\AppData\\Roaming\\nltk_data...\n",
      "[nltk_data]   Package stopwords is already up-to-date!\n",
      "[nltk_data] Downloading package wordnet to\n",
      "[nltk_data]     C:\\Users\\adiun\\AppData\\Roaming\\nltk_data...\n",
      "[nltk_data]   Package wordnet is already up-to-date!\n",
      "[nltk_data] Downloading package omw-1.4 to\n",
      "[nltk_data]     C:\\Users\\adiun\\AppData\\Roaming\\nltk_data...\n",
      "[nltk_data] Downloading package averaged_perceptron_tagger to\n",
      "[nltk_data]     C:\\Users\\adiun\\AppData\\Roaming\\nltk_data...\n",
      "[nltk_data]   Unzipping taggers\\averaged_perceptron_tagger.zip.\n"
     ]
    },
    {
     "data": {
      "text/plain": [
       "True"
      ]
     },
     "execution_count": 3,
     "metadata": {},
     "output_type": "execute_result"
    }
   ],
   "source": [
    "nltk.download('punkt')\n",
    "nltk.download('stopwords')\n",
    "nltk.download('wordnet')\n",
    "nltk.download('omw-1.4')\n",
    "nltk.download('averaged_perceptron_tagger')"
   ]
  },
  {
   "cell_type": "code",
   "execution_count": 4,
   "id": "60b07e36-d0c1-42fe-ae18-afa358dcd5b0",
   "metadata": {},
   "outputs": [
    {
     "name": "stdout",
     "output_type": "stream",
     "text": [
      "Dataset loaded successfully!\n"
     ]
    },
    {
     "data": {
      "text/html": [
       "<div>\n",
       "<style scoped>\n",
       "    .dataframe tbody tr th:only-of-type {\n",
       "        vertical-align: middle;\n",
       "    }\n",
       "\n",
       "    .dataframe tbody tr th {\n",
       "        vertical-align: top;\n",
       "    }\n",
       "\n",
       "    .dataframe thead th {\n",
       "        text-align: right;\n",
       "    }\n",
       "</style>\n",
       "<table border=\"1\" class=\"dataframe\">\n",
       "  <thead>\n",
       "    <tr style=\"text-align: right;\">\n",
       "      <th></th>\n",
       "      <th>review</th>\n",
       "      <th>label</th>\n",
       "      <th>polarity</th>\n",
       "      <th>source</th>\n",
       "    </tr>\n",
       "  </thead>\n",
       "  <tbody>\n",
       "    <tr>\n",
       "      <th>0</th>\n",
       "      <td>We stayed at the Schicago Hilton for 4 days an...</td>\n",
       "      <td>deceptive</td>\n",
       "      <td>negative</td>\n",
       "      <td>fold1</td>\n",
       "    </tr>\n",
       "    <tr>\n",
       "      <th>1</th>\n",
       "      <td>Hotel is located 1/2 mile from the train stati...</td>\n",
       "      <td>deceptive</td>\n",
       "      <td>negative</td>\n",
       "      <td>fold1</td>\n",
       "    </tr>\n",
       "    <tr>\n",
       "      <th>2</th>\n",
       "      <td>I made my reservation at the Hilton Chicago be...</td>\n",
       "      <td>deceptive</td>\n",
       "      <td>negative</td>\n",
       "      <td>fold1</td>\n",
       "    </tr>\n",
       "    <tr>\n",
       "      <th>3</th>\n",
       "      <td>When most people think Hilton, they think luxu...</td>\n",
       "      <td>deceptive</td>\n",
       "      <td>negative</td>\n",
       "      <td>fold1</td>\n",
       "    </tr>\n",
       "    <tr>\n",
       "      <th>4</th>\n",
       "      <td>My husband and I recently stayed stayed at the...</td>\n",
       "      <td>deceptive</td>\n",
       "      <td>negative</td>\n",
       "      <td>fold1</td>\n",
       "    </tr>\n",
       "  </tbody>\n",
       "</table>\n",
       "</div>"
      ],
      "text/plain": [
       "                                              review      label  polarity  \\\n",
       "0  We stayed at the Schicago Hilton for 4 days an...  deceptive  negative   \n",
       "1  Hotel is located 1/2 mile from the train stati...  deceptive  negative   \n",
       "2  I made my reservation at the Hilton Chicago be...  deceptive  negative   \n",
       "3  When most people think Hilton, they think luxu...  deceptive  negative   \n",
       "4  My husband and I recently stayed stayed at the...  deceptive  negative   \n",
       "\n",
       "  source  \n",
       "0  fold1  \n",
       "1  fold1  \n",
       "2  fold1  \n",
       "3  fold1  \n",
       "4  fold1  "
      ]
     },
     "execution_count": 4,
     "metadata": {},
     "output_type": "execute_result"
    }
   ],
   "source": [
    "#Task1\n",
    "import pandas as pd\n",
    "import os\n",
    "\n",
    "# Function to load all text files from a given directory structure\n",
    "def load_reviews(base_path, label, polarity):\n",
    "    reviews = []\n",
    "    if not os.path.exists(base_path):\n",
    "        print(f\"Path not found: {base_path}\")\n",
    "        return reviews\n",
    "    \n",
    "    for category in os.listdir(base_path):\n",
    "        category_path = os.path.join(base_path, category)\n",
    "        if os.path.isdir(category_path):\n",
    "            for file_name in os.listdir(category_path):\n",
    "                file_path = os.path.join(category_path, file_name)\n",
    "                if os.path.isfile(file_path):\n",
    "                    with open(file_path, 'r', encoding='utf-8') as file:\n",
    "                        reviews.append({\n",
    "                            \"review\": file.read().strip(),\n",
    "                            \"label\": label,\n",
    "                            \"polarity\": polarity,\n",
    "                            \"source\": category\n",
    "                        })\n",
    "    return reviews\n",
    "\n",
    "# **Fix the path** - If in Downloads\n",
    "dataset_path = os.path.expanduser(\"~/Downloads/op_spam_v1.4\")\n",
    "\n",
    "# Check if path exists before proceeding\n",
    "if not os.path.exists(dataset_path):\n",
    "    raise FileNotFoundError(f\"Dataset not found at {dataset_path}. Check your path!\")\n",
    "\n",
    "negative_polarity_path = os.path.join(dataset_path, \"op_spam_v1.4/negative_polarity\")\n",
    "positive_polarity_path = os.path.join(dataset_path, \"op_spam_v1.4/positive_polarity\")\n",
    "\n",
    "# Load reviews from all categories\n",
    "negative_deceptive = load_reviews(os.path.join(negative_polarity_path, \"deceptive_from_MTurk\"), \"deceptive\", \"negative\")\n",
    "negative_truthful = load_reviews(os.path.join(negative_polarity_path, \"truthful_from_Web\"), \"truthful\", \"negative\")\n",
    "positive_deceptive = load_reviews(os.path.join(positive_polarity_path, \"deceptive_from_MTurk\"), \"deceptive\", \"positive\")\n",
    "positive_truthful = load_reviews(os.path.join(positive_polarity_path, \"truthful_from_TripAdvisor\"), \"truthful\", \"positive\")\n",
    "\n",
    "# Combine all reviews into a DataFrame\n",
    "review_data = pd.DataFrame(negative_deceptive + negative_truthful + positive_deceptive + positive_truthful)\n",
    "\n",
    "# Save as CSV file\n",
    "review_data.to_csv(\"review_data.csv\", index=False)\n",
    "\n",
    "# Display the first few rows\n",
    "print(\"Dataset loaded successfully!\")\n",
    "review_data.head()\n"
   ]
  },
  {
   "cell_type": "code",
   "execution_count": 5,
   "id": "a5c53ea3-2669-4710-8881-801ad19f38d7",
   "metadata": {},
   "outputs": [
    {
     "name": "stdout",
     "output_type": "stream",
     "text": [
      "Added review_ID column successfully!\n"
     ]
    }
   ],
   "source": [
    "#Task2\n",
    "review_data[\"review_ID\"] = range(1, len(review_data) + 1)\n",
    "review_data.to_csv(\"review_data_with_ID.csv\", index=False)\n",
    "print(\"Added review_ID column successfully!\")\n"
   ]
  },
  {
   "cell_type": "code",
   "execution_count": 6,
   "id": "c67b727e-3342-4be2-8fc1-f86781d5d97a",
   "metadata": {},
   "outputs": [
    {
     "name": "stdout",
     "output_type": "stream",
     "text": [
      "Created hotel_review_length dataset successfully!\n"
     ]
    }
   ],
   "source": [
    "#Task3\n",
    "review_data[\"hotel_review_length\"] = review_data[\"review\"].apply(lambda x: len(str(x).split()))\n",
    "hotel_review_length = review_data[[\"review_ID\", \"hotel_review_length\"]]\n",
    "hotel_review_length.to_csv(\"hotel_review_length.csv\", index=False)\n",
    "print(\"Created hotel_review_length dataset successfully!\")\n"
   ]
  },
  {
   "cell_type": "code",
   "execution_count": 7,
   "id": "5242adff-a2d5-4ec3-9b99-47a42e16b153",
   "metadata": {},
   "outputs": [
    {
     "name": "stdout",
     "output_type": "stream",
     "text": [
      "Stop words removed and saved as 'data_without_stop.csv'.\n"
     ]
    }
   ],
   "source": [
    "#Task4\n",
    "import pandas as pd\n",
    "from nltk.corpus import stopwords\n",
    "\n",
    "# Load dataset\n",
    "ds = pd.read_csv(\"review_data.csv\")\n",
    "\n",
    "# Define stop words set\n",
    "stop_words = set(stopwords.words('english'))\n",
    "\n",
    "# Apply stop word removal using lambda function\n",
    "ds['review'] = ds['review'].apply(lambda x: ' '.join([word for word in str(x).lower().split() if word not in stop_words]))\n",
    "\n",
    "# Save dataset\n",
    "ds.to_csv(\"data_without_stop.csv\", index=False)\n",
    "\n",
    "print(\"Stop words removed and saved as 'data_without_stop.csv'.\")\n"
   ]
  },
  {
   "cell_type": "code",
   "execution_count": 8,
   "id": "30dc2378-8a70-4244-b68a-1defd3ce3d76",
   "metadata": {},
   "outputs": [
    {
     "name": "stdout",
     "output_type": "stream",
     "text": [
      "Numbers removed and saved as 'new_without_numbers.csv'.\n"
     ]
    }
   ],
   "source": [
    "#Task5\n",
    "ds['review'] = ds['review'].apply(lambda x: re.sub(r'\\d+', '', x))\n",
    "ds.to_csv(\"new_without_numbers.csv\", index=False)\n",
    "print(\"Numbers removed and saved as 'new_without_numbers.csv'.\")"
   ]
  },
  {
   "cell_type": "code",
   "execution_count": 9,
   "id": "6667b607-6d81-4dd2-bdb7-59810342475e",
   "metadata": {},
   "outputs": [
    {
     "name": "stdout",
     "output_type": "stream",
     "text": [
      "Lemmatized text and saved as 'review_lemmatized.csv'.\n"
     ]
    }
   ],
   "source": [
    "#Task6\n",
    "lemmatizer = WordNetLemmatizer()\n",
    "ds['review'] = ds['review'].apply(lambda x: ' '.join([lemmatizer.lemmatize(word) for word in x.split()]))\n",
    "ds.to_csv(\"review_lemmatized.csv\", index=False)\n",
    "print(\"Lemmatized text and saved as 'review_lemmatized.csv'.\")"
   ]
  },
  {
   "cell_type": "code",
   "execution_count": 10,
   "id": "a1cb6539-05d3-4694-ac5b-cdb47e369147",
   "metadata": {},
   "outputs": [
    {
     "name": "stdout",
     "output_type": "stream",
     "text": [
      "TF-IDF vectors saved as 'tfidf_vectors.csv'.\n"
     ]
    }
   ],
   "source": [
    "#Task7\n",
    "vectorizer = TfidfVectorizer()\n",
    "tfidf_matrix = vectorizer.fit_transform(ds['review'])\n",
    "tfidf_df = pd.DataFrame(tfidf_matrix.toarray(), columns=vectorizer.get_feature_names_out())\n",
    "tfidf_df.to_csv(\"tfidf_vectors.csv\", index=False)\n",
    "print(\"TF-IDF vectors saved as 'tfidf_vectors.csv'.\")\n"
   ]
  },
  {
   "cell_type": "code",
   "execution_count": 11,
   "id": "5f595dd0-54ba-40d6-a4cf-8dc5b58caf05",
   "metadata": {},
   "outputs": [
    {
     "name": "stdout",
     "output_type": "stream",
     "text": [
      "Top 10 most common words: [('hotel', 2739), ('room', 2661), ('stay', 1073), ('chicago', 973), ('would', 908), ('staff', 722), ('great', 697), ('stayed', 657), ('one', 646), ('service', 637)]\n"
     ]
    }
   ],
   "source": [
    "#Task8\n",
    "all_words = ' '.join(ds['review']).split()\n",
    "word_counts = Counter(all_words)\n",
    "top_10_words = word_counts.most_common(10)\n",
    "print(\"Top 10 most common words:\", top_10_words)"
   ]
  },
  {
   "cell_type": "code",
   "execution_count": 12,
   "id": "c4a00d57-4d7b-485c-97f2-0521e044352c",
   "metadata": {},
   "outputs": [
    {
     "data": {
      "image/png": "[encoded data removed]",
      "text/plain": [
       "<Figure size 1200x600 with 1 Axes>"
      ]
     },
     "metadata": {},
     "output_type": "display_data"
    }
   ],
   "source": [
    "#Task9\n",
    "original_ds = pd.read_csv(\"review_data.csv\")\n",
    "original_ds['review'] = ds['review']\n",
    "truthful_reviews = original_ds[original_ds['label'] == 'truthful']\n",
    "deceptive_reviews = original_ds[original_ds['label'] == 'deceptive']\n",
    "\n",
    "truthful_word_counts = Counter(' '.join(truthful_reviews['review']).split())\n",
    "deceptive_word_counts = Counter(' '.join(deceptive_reviews['review']).split())\n",
    "\n",
    "truthful_top_10 = truthful_word_counts.most_common(10)\n",
    "deceptive_top_10 = deceptive_word_counts.most_common(10)\n",
    "\n",
    "truthful_words, truthful_freqs = zip(*truthful_top_10)\n",
    "deceptive_words, deceptive_freqs = zip(*deceptive_top_10)\n",
    "\n",
    "plt.figure(figsize=(12, 6))\n",
    "plt.bar(truthful_words, truthful_freqs, alpha=0.5, label='Truthful Reviews')\n",
    "plt.bar(deceptive_words, deceptive_freqs, alpha=0.5, label='Deceptive Reviews')\n",
    "plt.xlabel('Words')\n",
    "plt.ylabel('Frequency')\n",
    "plt.title('Top 10 Words in Truthful vs Deceptive Reviews')\n",
    "plt.legend()\n",
    "plt.xticks(rotation=45)\n",
    "plt.show()\n"
   ]
  },
  {
   "cell_type": "markdown",
   "id": "11c9789d-f08c-4358-8f76-b99344e63de1",
   "metadata": {},
   "source": [
    "Task 10\n",
    "\n",
    "a. What does the plot tell us?\n",
    "Sincere reviews use more specific words about real experiences.\n",
    "Fake reviews have either generic, extremely positive, or superlative words that sound real but aren't.\n",
    "\n",
    "b. How do we identify phony reviews?\n",
    "approach- Convert words to numbers with TF-IDF or word embeddings with models such as Word2Vec, BERT.\n",
    "Train a model like Logistic Regression, Random Forest, or Deep Learning such as LSTMs, BERT.\n",
    "Accuracy is improved by adding review length, sentiment, and metadata.\n",
    "\n",
    "c. How do we know if it works?\n",
    "Precision & Recall methods evaluate the ability to detect fake reviews.\n",
    "F1-score & ROC-AUC verify overall model performance.\n",
    "Cross-validation validates the model for new data."
   ]
  },
  {
   "cell_type": "code",
   "execution_count": null,
   "id": "b3de1d0f-81f4-4ec3-9518-0b65a52e2794",
   "metadata": {},
   "outputs": [],
   "source": []
  }
 ],
 "metadata": {
  "kernelspec": {
   "display_name": "Python 3 (ipykernel)",
   "language": "python",
   "name": "python3"
  },
  "language_info": {
   "codemirror_mode": {
    "name": "ipython",
    "version": 3
   },
   "file_extension": ".py",
   "mimetype": "text/x-python",
   "name": "python",
   "nbconvert_exporter": "python",
   "pygments_lexer": "ipython3",
   "version": "3.11.11"
  }
 },
 "nbformat": 4,
 "nbformat_minor": 5
}
