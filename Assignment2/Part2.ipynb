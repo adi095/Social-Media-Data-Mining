{
 "cells": [
  {
   "cell_type": "markdown",
   "id": "1f51734d-91ab-4145-bbb0-e2ce055ff7cf",
   "metadata": {},
   "source": [
    "# Assignment 2\n",
    "## Part 2"
   ]
  },
  {
   "cell_type": "code",
   "execution_count": 1,
   "id": "dfbf35e7-cf7f-4a70-b806-2af9dcb9d2a8",
   "metadata": {},
   "outputs": [],
   "source": [
    "import networkx as nx"
   ]
  },
  {
   "cell_type": "code",
   "execution_count": 5,
   "id": "1b539dd3-4db4-4c14-abc8-666d58e61743",
   "metadata": {},
   "outputs": [],
   "source": [
    "blog_network_path = \"blogs(1).gml\"  \n",
    "G2 = nx.read_gml(blog_network_path)"
   ]
  },
  {
   "cell_type": "code",
   "execution_count": 7,
   "id": "f737d432-b21f-43b1-8f29-6a43b4137aeb",
   "metadata": {},
   "outputs": [],
   "source": [
    "page_rank_scores = nx.pagerank(G2, alpha=0.8)\n",
    "top_5_pagerank = sorted(page_rank_scores.items(), key=lambda x: x[1], reverse=True)[:5]"
   ]
  },
  {
   "cell_type": "code",
   "execution_count": 9,
   "id": "8de5d18c-5ff2-4e13-ae23-9a23e9d0d785",
   "metadata": {},
   "outputs": [],
   "source": [
    "hits_scores = nx.hits(G2)\n",
    "hub_scores, authority_scores = hits_scores"
   ]
  },
  {
   "cell_type": "code",
   "execution_count": 11,
   "id": "5aa235e3-cda4-47d8-aabd-5f4250cf7bcb",
   "metadata": {},
   "outputs": [],
   "source": [
    "node_name = \"realclearpolitics.com\"\n",
    "hub_score_rcp = hub_scores.get(node_name, 0)\n",
    "authority_score_rcp = authority_scores.get(node_name, 0)"
   ]
  },
  {
   "cell_type": "code",
   "execution_count": 13,
   "id": "ddff80c3-2ece-428e-8b79-48ff0213c61b",
   "metadata": {},
   "outputs": [],
   "source": [
    "top_5_hub_scores = sorted(hub_scores.items(), key=lambda x: x[1], reverse=True)[:5]"
   ]
  },
  {
   "cell_type": "code",
   "execution_count": 15,
   "id": "c4504068-3fec-4a56-9d54-9c9054d99415",
   "metadata": {},
   "outputs": [],
   "source": [
    "top_5_authority_scores = sorted(authority_scores.items(), key=lambda x: x[1], reverse=True)[:5]"
   ]
  },
  {
   "cell_type": "code",
   "execution_count": 25,
   "id": "7872daa8-8020-43fd-b87e-1c7834bda803",
   "metadata": {},
   "outputs": [
    {
     "name": "stdout",
     "output_type": "stream",
     "text": [
      "5 Nodes with Highest PageRank:\n",
      "Node: dailykos.com, PageRank: 0.016983142661119246\n",
      "Node: atrios.blogspot.com, PageRank: 0.013944503868725014\n",
      "Node: blogsforbush.com, PageRank: 0.01231579137863908\n",
      "Node: instapundit.com, PageRank: 0.011628338346471158\n",
      "Node: talkingpointsmemo.com, PageRank: 0.011549922970018082\n"
     ]
    }
   ],
   "source": [
    "#Q-4\n",
    "print(\"5 Nodes with Highest PageRank:\")\n",
    "for node, score in top_5_pagerank:\n",
    "    print(f\"Node: {node}, PageRank: {score}\")"
   ]
  },
  {
   "cell_type": "code",
   "execution_count": 33,
   "id": "6eb49dcc-5445-422e-b016-d95fa6def482",
   "metadata": {},
   "outputs": [
    {
     "name": "stdout",
     "output_type": "stream",
     "text": [
      "\n",
      "Hub and Authority Scores of node 'realclearpolitics.com':\n",
      "Hub Score: 0.00032435561402787284\n",
      "Authority Score: 0.003918957644934252\n"
     ]
    }
   ],
   "source": [
    "#Q-5\n",
    "print(\"\\nHub and Authority Scores of node 'realclearpolitics.com':\")\n",
    "print(f\"Hub Score: {hub_score_rcp}\")\n",
    "print(f\"Authority Score: {authority_score_rcp}\")"
   ]
  },
  {
   "cell_type": "code",
   "execution_count": 27,
   "id": "be374fa6-181a-4b24-a558-88547685c788",
   "metadata": {},
   "outputs": [
    {
     "name": "stdout",
     "output_type": "stream",
     "text": [
      "\n",
      "5 Nodes with Highest Hub Scores:\n",
      "Node: politicalstrategy.org, Hub Score: 0.006860032845402863\n",
      "Node: madkane.com/notable.html, Hub Score: 0.006198130021781294\n",
      "Node: liberaloasis.com, Hub Score: 0.00613468960204917\n",
      "Node: stagefour.typepad.com/commonprejudice, Hub Score: 0.00599072909799184\n",
      "Node: bodyandsoul.typepad.com, Hub Score: 0.005939626691456598\n"
     ]
    }
   ],
   "source": [
    "#Q-6\n",
    "print(\"\\n5 Nodes with Highest Hub Scores:\")\n",
    "for node, score in top_5_hub_scores:\n",
    "    print(f\"Node: {node}, Hub Score: {score}\")"
   ]
  },
  {
   "cell_type": "code",
   "execution_count": 31,
   "id": "a5aaf965-f020-46b2-bda6-92f21e5d7ba3",
   "metadata": {},
   "outputs": [
    {
     "name": "stdout",
     "output_type": "stream",
     "text": [
      "\n",
      "5 Nodes with Highest Authority Scores:\n",
      "Node: dailykos.com, Authority Score: 0.015042267073782957\n",
      "Node: talkingpointsmemo.com, Authority Score: 0.01445090781763725\n",
      "Node: atrios.blogspot.com, Authority Score: 0.014083800024250463\n",
      "Node: washingtonmonthly.com, Authority Score: 0.011953445821248368\n",
      "Node: talkleft.com, Authority Score: 0.009705131063057789\n"
     ]
    }
   ],
   "source": [
    "#Q-7\n",
    "print(\"\\n5 Nodes with Highest Authority Scores:\")\n",
    "for node, score in top_5_authority_scores:\n",
    "    print(f\"Node: {node}, Authority Score: {score}\")"
   ]
  },
  {
   "cell_type": "code",
   "execution_count": null,
   "id": "6c8bd478-cf16-4aa6-8326-19092f5ba868",
   "metadata": {},
   "outputs": [],
   "source": []
  }
 ],
 "metadata": {
  "kernelspec": {
   "display_name": "Python 3 (ipykernel)",
   "language": "python",
   "name": "python3"
  },
  "language_info": {
   "codemirror_mode": {
    "name": "ipython",
    "version": 3
   },
   "file_extension": ".py",
   "mimetype": "text/x-python",
   "name": "python",
   "nbconvert_exporter": "python",
   "pygments_lexer": "ipython3",
   "version": "3.12.3"
  }
 },
 "nbformat": 4,
 "nbformat_minor": 5
}
