{
 "cells": [
  {
   "cell_type": "markdown",
   "id": "1fb8ec71-a404-477c-b5ef-379da0281576",
   "metadata": {},
   "source": [
    "# CIS 600 SMDM - Assignment 1\n",
    "## Question 2"
   ]
  },
  {
   "cell_type": "code",
   "execution_count": 1,
   "id": "25c82168-e97a-4d29-b25a-17e1f365f284",
   "metadata": {},
   "outputs": [],
   "source": [
    "# Question 2\n",
    "\n",
    "import pandas as pd\n",
    "import numpy as np"
   ]
  },
  {
   "cell_type": "code",
   "execution_count": 16,
   "id": "2b45e25f-0e61-400e-8cfa-d699825b1674",
   "metadata": {},
   "outputs": [
    {
     "name": "stdout",
     "output_type": "stream",
     "text": [
      "Number of unique last names of people: 8271\n",
      "Most common last name of people: sullivan (Count: 572)\n",
      "Youngest person's age in the dataset: 1.0\n",
      "Number of entries of people with same surnames: 26190\n",
      "Average age of person: 25.21\n"
     ]
    }
   ],
   "source": [
    "def dataset():\n",
    "    # Load \n",
    "    file_path = \"Assignment1_Q2_Data.csv\"  \n",
    "    df = pd.read_csv(file_path)\n",
    "\n",
    "    # Clean age column \n",
    "    df['age'] = pd.to_numeric(df['age'], errors='coerce')\n",
    "\n",
    "    # 2.1 \n",
    "    uni_last_names = df['surname'].dropna().nunique()\n",
    "    print(f\"Number of unique last names of people: {uni_last_names}\")\n",
    "\n",
    "    # 2.2 \n",
    "    com_last_name = df['surname'].dropna().value_counts().idxmax()\n",
    "    com_last_name_count = df['surname'].dropna().value_counts().max()\n",
    "    print(f\"Most common last name of people: {com_last_name} (Count: {com_last_name_count})\")\n",
    "\n",
    "    # 2.3 \n",
    "    young_person = df['age'].dropna().min()\n",
    "    print(f\"Youngest person's age in the dataset: {young_person}\")\n",
    "\n",
    "    # 2.4 \n",
    "    match_surnames = np.sum(df['surname'] == df['seek_surname'])\n",
    "    print(f\"Number of entries of people with same surnames: {match_surnames}\")\n",
    "\n",
    "    # 2.5 \n",
    "    avg_age = df['age'].dropna().mean()\n",
    "    print(f\"Average age of person: {avg_age:.2f}\")\n",
    "\n",
    "# MAIN\n",
    "if __name__ == \"__main__\":\n",
    "    dataset()\n"
   ]
  },
  {
   "cell_type": "code",
   "execution_count": null,
   "id": "9f2cf951-d961-40c1-93ee-6dd98cf8eba8",
   "metadata": {},
   "outputs": [],
   "source": []
  }
 ],
 "metadata": {
  "kernelspec": {
   "display_name": "Python 3 (ipykernel)",
   "language": "python",
   "name": "python3"
  },
  "language_info": {
   "codemirror_mode": {
    "name": "ipython",
    "version": 3
   },
   "file_extension": ".py",
   "mimetype": "text/x-python",
   "name": "python",
   "nbconvert_exporter": "python",
   "pygments_lexer": "ipython3",
   "version": "3.12.3"
  }
 },
 "nbformat": 4,
 "nbformat_minor": 5
}
